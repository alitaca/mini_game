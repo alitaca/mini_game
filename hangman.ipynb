{
 "cells": [
  {
   "cell_type": "code",
   "execution_count": 3,
   "id": "accurate-hamilton",
   "metadata": {},
   "outputs": [
    {
     "name": "stdout",
     "output_type": "stream",
     "text": [
      "pygame 2.0.1 (SDL 2.0.14, Python 3.8.8)\n",
      "Hello from the pygame community. https://www.pygame.org/contribute.html\n"
     ]
    }
   ],
   "source": [
    "#import pygame"
   ]
  },
  {
   "cell_type": "markdown",
   "id": "revised-camel",
   "metadata": {},
   "source": [
    "# Mini-game: Hangman\n",
    "\n",
    "    The word to guess is represented by a row of dashes. If the player guess a letter which exists in the word, the script writes it in all its correct positions.  The player has 10 turns to guess the word. You can easily customize the game by changing the variables."
   ]
  },
  {
   "cell_type": "markdown",
   "id": "contemporary-advancement",
   "metadata": {},
   "source": [
    "## Pseudocódigo\n",
    "\n",
    "    . o jogo escolhe uma palavra aleatoriamente dentre uma lista pré-definida de palavras\n",
    "    . cria uma lista vazia para armazenar letras\n",
    "    . enquanto usuário não preenche a palavra e a forca está incompleta:\n",
    "    1- mostra a dica da palavra\n",
    "    2- mostra o status da palavra e da forca\n",
    "    3- solicita uma letra\n",
    "    4- se a palavra contém a letra, preenche na palavra, se não, preenche um step da forca\n",
    "    5- continua para o próximo round"
   ]
  },
  {
   "cell_type": "markdown",
   "id": "amazing-hierarchy",
   "metadata": {},
   "source": [
    "## Código"
   ]
  },
  {
   "cell_type": "code",
   "execution_count": null,
   "id": "orange-party",
   "metadata": {},
   "outputs": [],
   "source": [
    "#import random as rd\n",
    "\n",
    "#    lista_segredo = {'Jiboia' : 'Animal', 'Coala' : 'Animal', 'Pelicano' : 'Animal', 'Búfalo' : 'Animal',\n",
    "#                     'Girafa' : 'Animal', 'Javali' : 'Animal', 'Capivara' : 'Animal', 'Tucano' : 'Animal',\n",
    "#                     'Jaguatirica' : 'Animal', 'Hipopótamo' : 'Animal', 'Urso' : 'Animal', 'Anta' : 'Animal',\n",
    "#                     'Tigre' : 'Animal', 'Ariranha' : 'Animal', 'Coiote' : 'Animal', 'Hiena' : 'Animal',\n",
    "#                     'Zebra' : 'Animal', 'Lince' : 'Animal', 'Porco-espinho' : 'Animal', 'Morcego' : 'Animal',\n",
    "#                     'Pangolim' : 'Animal', 'Amarelo' : 'Cor', 'Avião' : 'Objeto', 'Balão' : 'Objeto', 'Bolo' : 'Comida',\n",
    "#                     'Branco' : 'Cor', 'Cama' : 'Objeto', 'Caneca' : 'Objeto', 'Celular' : 'Objeto', 'Clube' : 'Lugar',\n",
    "#                     'Copo' : 'Objeto', 'Doce' : 'Comida', 'Elefante' : 'Animal', 'Escola' : 'Lugar', 'Estojo' : 'Objeto',\n",
    "#                     'Faca' : 'Objeto', 'Foto' : 'Objeto', 'Garfo' : 'Objeto', 'Geleia' : 'Comida', 'Girafa' : 'Animal',\n",
    "#                     'Janela' : 'Objeto', 'Limonada' : 'Comida', 'Meia' : 'Objeto', 'Óculos' : 'Objeto', 'Ovo' : 'Comida',\n",
    "#                     'Pão' : 'Comida', 'Parque' : 'Lugar', 'Passarinho' : 'Animal', 'Peixe' : 'Animal',\n",
    "#                     'Pijama' : 'Objeto', 'Rato' : 'Animal', 'Champanhe' : 'Comida', 'Chiclete' : 'Objeto',\n",
    "#                     'Chuveiro' : 'Objeto', 'Coelho' : 'Animal', 'Esfirra' : 'Comida', 'Paralelepípedo' : 'Objeto',\n",
    "#                     'Sino' : 'Objeto', 'Amendoim' : 'Comida', 'Banheiro' : 'Lugar', 'Caatinga' : 'Lugar',\n",
    "#                     'Cachorro' : 'Animal', 'Esparadrapo' : 'Objeto', 'Forca' : 'Objeto', 'Galáxia' : 'Lugar',\n",
    "#                     'Magenta' : 'Cor', 'Manjericão' : 'Comida', 'Menta' : 'Comida', 'Moeda' : 'Objeto',\n",
    "#                     'Paçoca' : 'Comida', 'Rotatória' : 'Lugar', 'Ônibus' : 'Objeto', 'Xícara' : 'Objeto'}"
   ]
  },
  {
   "cell_type": "code",
   "execution_count": 32,
   "id": "mechanical-movement",
   "metadata": {},
   "outputs": [],
   "source": [
    "def escolhe_segredo():\n",
    "    '''Esta função inicializa uma lista pré-definida de palavras e retorna uma\n",
    "        lista com uma palavra e sua categoria\n",
    "    \n",
    "    Args:\n",
    "        (não há)\n",
    "    Return:\n",
    "        - lista de duas strings\n",
    "        \n",
    "    Ex:\n",
    "        escolhe_segredo()\n",
    "            ['Zebra', 'Animal']\n",
    "    '''\n",
    "    \n",
    "    from random import choice\n",
    "\n",
    "    lista_segredo = (('Jiboia', 'Animal'), ('Coala', 'Animal'), ('Pelicano', 'Animal'), ('Búfalo', 'Animal'),\n",
    "                     ('Girafa', 'Animal'), ('Javali', 'Animal'), ('Capivara', 'Animal'), ('Tucano', 'Animal'),\n",
    "                     ('Jaguatirica', 'Animal'), ('Hipopótamo', 'Animal'), ('Urso', 'Animal'), ('Anta', 'Animal'),\n",
    "                     ('Tigre', 'Animal'), ('Ariranha', 'Animal'), ('Coiote', 'Animal'), ('Hiena', 'Animal'),\n",
    "                     ('Zebra', 'Animal'), ('Lince', 'Animal'), ('Porco-espinho', 'Animal'), ('Morcego', 'Animal'),\n",
    "                     ('Pangolim', 'Animal'), ('Amarelo', 'Cor'), ('Avião', 'Objeto'), ('Balão', 'Objeto'),\n",
    "                     ('Bolo', 'Comida'), ('Branco', 'Cor'), ('Cama', 'Objeto'), ('Caneca', 'Objeto'),\n",
    "                     ('Celular', 'Objeto'), ('Clube', 'Lugar'), ('Copo', 'Objeto'), ('Doce', 'Comida'),\n",
    "                     ('Elefante', 'Animal'), ('Escola', 'Lugar'), ('Estojo', 'Objeto'), ('Faca', 'Objeto'),\n",
    "                     ('Foto', 'Objeto'), ('Garfo', 'Objeto'), ('Geleia', 'Comida'), ('Janela', 'Objeto'),\n",
    "                     ('Limonada', 'Comida'), ('Meia', 'Objeto'), ('Óculos', 'Objeto'), ('Ônibus', 'Objeto'),\n",
    "                     ('Ovo', 'Comida'), ('Pão', 'Comida'), ('Parque', 'Lugar'), ('Passarinho', 'Animal'),\n",
    "                     ('Peixe', 'Animal'), ('Pijama', 'Objeto'), ('Rato', 'Animal'), ('Champanhe', 'Comida'),\n",
    "                     ('Chiclete', 'Objeto'), ('Chuveiro', 'Objeto'), ('Coelho', 'Animal'), ('Esfirra', 'Comida'),\n",
    "                     ('Paralelepípedo', 'Objeto'), ('Sino', 'Objeto'), ('Amendoim', 'Comida'), ('Banheiro', 'Lugar'),\n",
    "                     ('Caatinga', 'Lugar'), ('Cachorro', 'Animal'), ('Esparadrapo', 'Objeto'), ('Forca', 'Objeto'),\n",
    "                     ('Galáxia', 'Lugar'), ('Magenta', 'Cor'), ('Manjericão', 'Comida'), ('Menta', 'Comida'),\n",
    "                     ('Moeda', 'Objeto'), ('Paçoca', 'Comida'), ('Rotatória', 'Lugar'), ('Xícara', 'Objeto'))\n",
    "    \n",
    "    return choice(lista_segredo)"
   ]
  },
  {
   "cell_type": "code",
   "execution_count": 109,
   "id": "professional-sandwich",
   "metadata": {},
   "outputs": [],
   "source": [
    "class Forca():\n",
    "    '''Esta classe armazena a forca\n",
    "    '''\n",
    "    \n",
    "    def __init__(self):\n",
    "        self.step = 0\n",
    "        self.fim = False\n",
    "        self.forca_inicial = f'''\n",
    "        +--+\n",
    "        |\n",
    "        |\n",
    "        |\\\\\n",
    "        '''\n",
    "        \n",
    "    \n",
    "    def __repr__(self):\n",
    "        return self.forca_inicial\n",
    "    \n",
    "    def aumenta_step(self):\n",
    "        '''Este método avança um step na forca'''\n",
    "        if self.step < 6: self.step +=1\n",
    "        if self.step == 6: self.fim = True\n",
    "        \n",
    "    def imprime_forca(self):\n",
    "        '''Este método imprime o status atual da forca'''\n",
    "        if self.step == 0: print(self.forca_inicial)\n",
    "        \n",
    "        if self.step == 1:\n",
    "            step_1 = f'''\n",
    "            +--+\n",
    "            |  o\n",
    "            |\n",
    "            |\\\\\n",
    "            '''\n",
    "            print(step_1)\n",
    "        \n",
    "        if self.step == 2:\n",
    "            step_2 = f'''\n",
    "            +--+\n",
    "            |  o\n",
    "            |  |\n",
    "            |\\\\\n",
    "            '''\n",
    "            print(step_2)\n",
    "        \n",
    "        if self.step == 3:\n",
    "            step_3 = f'''\n",
    "            +--+\n",
    "            |  o\n",
    "            | /|\n",
    "            |\\\\\n",
    "            '''\n",
    "            print(step_3)\n",
    "        \n",
    "        if self.step == 4:\n",
    "            step_4 = f'''\n",
    "            +--+\n",
    "            |  o\n",
    "            | /|\\\\\n",
    "            |\\\\\n",
    "            '''\n",
    "            print(step_4)\n",
    "        \n",
    "        if self.step == 5:\n",
    "            step_5 = f'''\n",
    "            +--+\n",
    "            |  o\n",
    "            | /|\\\\\n",
    "            |\\\\/\n",
    "            '''\n",
    "            print(step_5)\n",
    "        \n",
    "        if self.step == 6:\n",
    "            step_6 = f'''\n",
    "            +--+\n",
    "            |  o\n",
    "            | /|\\\\\n",
    "            |\\\\/ \\\\\n",
    "            '''\n",
    "            print(step_6)\n"
   ]
  },
  {
   "cell_type": "code",
   "execution_count": 12,
   "id": "suspended-elephant",
   "metadata": {},
   "outputs": [],
   "source": [
    "class Letra():\n",
    "    '''Esta classe armazena uma letra e classifica se foi sucesso ou fracasso\n",
    "    '''\n",
    "    \n",
    "#    __init__():\n",
    "        \n",
    "    def _simplifica_segredo(segredo):\n",
    "        '''Este método remove maiúsculas e acentos\n",
    "        '''\n",
    "        \n",
    "#        import re\n",
    "        \n",
    "#        acentos = re.findall('[áéíóúÁÉÍÓÚâêîôÂÊÎÔãõÃÕçÇ]', segredo)\n",
    "        simples = list(segredo.lower())\n",
    "        \n",
    "#        if len(acentos) == 0: return segredo.lower()\n",
    "#        else:\n",
    "        for pos in range(len(simples)):\n",
    "            if simples[pos] in 'áâã': simples[pos] = 'a'\n",
    "            if simples[pos] in 'éê': simples[pos] = 'e'\n",
    "            if simples[pos] in 'íî': simples[pos] = 'i'\n",
    "            if simples[pos] in 'óôõ': simples[pos] = 'o'\n",
    "            if simples[pos] == 'ú': simples[pos] = 'u'\n",
    "            if simples[pos] == 'ç': simples[pos] = 'c'\n",
    "                \n",
    "        return ''.join(simples)\n",
    "    \n",
    "    def compara_segredo(segredo):\n",
    "        "
   ]
  },
  {
   "cell_type": "code",
   "execution_count": 25,
   "id": "precise-disposition",
   "metadata": {},
   "outputs": [],
   "source": [
    "segredo = 'Águia'"
   ]
  },
  {
   "cell_type": "code",
   "execution_count": 33,
   "id": "saved-marine",
   "metadata": {},
   "outputs": [],
   "source": [
    "segredo, cat = escolhe_segredo()"
   ]
  },
  {
   "cell_type": "code",
   "execution_count": 35,
   "id": "superb-drunk",
   "metadata": {},
   "outputs": [
    {
     "data": {
      "text/plain": [
       "'Rotatória'"
      ]
     },
     "execution_count": 35,
     "metadata": {},
     "output_type": "execute_result"
    }
   ],
   "source": [
    "segredo"
   ]
  },
  {
   "cell_type": "code",
   "execution_count": 23,
   "id": "oriented-monster",
   "metadata": {},
   "outputs": [
    {
     "data": {
      "text/plain": [
       "'águia'"
      ]
     },
     "execution_count": 23,
     "metadata": {},
     "output_type": "execute_result"
    }
   ],
   "source": [
    "segredo.lower()"
   ]
  },
  {
   "cell_type": "code",
   "execution_count": 37,
   "id": "annual-island",
   "metadata": {},
   "outputs": [],
   "source": [
    "simples = list(segredo.lower())\n",
    "        \n",
    "#        if len(acentos) == 0: return segredo.lower()\n",
    "#        else:\n",
    "for pos in range(len(simples)):\n",
    "    if simples[pos] in 'áâã': simples[pos] = 'a'\n",
    "    if simples[pos] in 'éê': simples[pos] = 'e'\n",
    "    if simples[pos] in 'íî': simples[pos] = 'i'\n",
    "    if simples[pos] in 'óôõ': simples[pos] = 'o'\n",
    "    if simples[pos] == 'ú': simples[pos] = 'u'\n",
    "    if simples[pos] == 'ç': simples[pos] = 'c'"
   ]
  },
  {
   "cell_type": "code",
   "execution_count": 39,
   "id": "julian-lithuania",
   "metadata": {},
   "outputs": [
    {
     "data": {
      "text/plain": [
       "['r', 'o', 't', 'a', 't', 'o', 'r', 'i', 'a']"
      ]
     },
     "execution_count": 39,
     "metadata": {},
     "output_type": "execute_result"
    }
   ],
   "source": [
    "simples"
   ]
  },
  {
   "cell_type": "code",
   "execution_count": 38,
   "id": "august-russian",
   "metadata": {},
   "outputs": [
    {
     "data": {
      "text/plain": [
       "'rotatoria'"
      ]
     },
     "execution_count": 38,
     "metadata": {},
     "output_type": "execute_result"
    }
   ],
   "source": [
    "''.join(simples)"
   ]
  },
  {
   "cell_type": "markdown",
   "id": "synthetic-producer",
   "metadata": {},
   "source": [
    "+--+   +--+   +--+   +--+   +--+   +--+   +--+\n",
    "|      |  o   |  o   |  o   |  o   |  o   |  o\n",
    "|      |      |  |   | /|   | /|\\  | /|\\  | /|\\\n",
    "|\\     |\\     |\\     |\\     |\\     |\\/    |\\/ \\"
   ]
  }
 ],
 "metadata": {
  "kernelspec": {
   "display_name": "Python 3",
   "language": "python",
   "name": "python3"
  },
  "language_info": {
   "codemirror_mode": {
    "name": "ipython",
    "version": 3
   },
   "file_extension": ".py",
   "mimetype": "text/x-python",
   "name": "python",
   "nbconvert_exporter": "python",
   "pygments_lexer": "ipython3",
   "version": "3.8.8"
  }
 },
 "nbformat": 4,
 "nbformat_minor": 5
}
